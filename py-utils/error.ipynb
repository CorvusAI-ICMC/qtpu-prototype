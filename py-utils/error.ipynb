{
 "cells": [
  {
   "cell_type": "code",
   "execution_count": 23,
   "metadata": {},
   "outputs": [],
   "source": [
    "import qval as qv\n",
    "import numpy as np\n",
    "import random"
   ]
  },
  {
   "cell_type": "code",
   "execution_count": 24,
   "metadata": {},
   "outputs": [],
   "source": [
    "\n",
    "bits = 4\n",
    "\n",
    "def quantize_matrix(matrix, n):\n",
    "    rows, cols = matrix.shape\n",
    "\n",
    "    qmatrix = [[0 for _ in range(rows)] for _ in range(cols)]\n",
    "\n",
    "    for i in range(rows):\n",
    "        for j in range(cols):\n",
    "            qmatrix[i][j] = qv.quantize(matrix[i][j], n)\n",
    "\n",
    "    return np.array(qmatrix)\n",
    "\n",
    "def dequantize_matrix(qmatrix, n):\n",
    "    rows, cols = qmatrix.shape\n",
    "\n",
    "    matrix = [[0 for _ in range(rows)] for _ in range(cols)]\n",
    "\n",
    "    for i in range(rows):\n",
    "        for j in range(cols):\n",
    "            matrix[i][j] = qv.dequantize(qmatrix[i][j], n)\n",
    "\n",
    "    return np.array(matrix)\n",
    "\n"
   ]
  },
  {
   "cell_type": "code",
   "execution_count": 25,
   "metadata": {},
   "outputs": [],
   "source": [
    "def qMatMul(m1, m2, n):\n",
    "    rows = m1.shape[0]\n",
    "    cols = m2.shape[1]\n",
    "    muls = m2.shape[0]\n",
    "\n",
    "    m3 = np.array([[qv.qZERO(n) for _ in range(cols)] for _ in range(rows)], dtype=object)\n",
    "\n",
    "    for i in range(rows):\n",
    "        for j in range(cols):\n",
    "            sum_ij = qv.qZERO(2 * n - 1)\n",
    "            for k in range(muls):\n",
    "                prod = qv.qMul(m1[i][k], m2[k][j])\n",
    "                sum_ij = qv.qAdd(sum_ij, qv.qfit(prod, len(sum_ij)))\n",
    "                sum_ij = sum_ij[-(2 * n - 1):]\n",
    "            \n",
    "            \n",
    "            m3[i][j] = qv.qfit(sum_ij, n)\n",
    "\n",
    "    return m3\n",
    "\n",
    "\n",
    "def MatMul(m1, m2):\n",
    "    rows = m1.shape[0]\n",
    "    cols = m2.shape[1]\n",
    "    muls = m2.shape[0]\n",
    "\n",
    "    m3 = np.array([[0 for _ in range(cols)] for _ in range(rows)], dtype=object)\n",
    "\n",
    "    for i in range(rows):\n",
    "        for j in range(cols):\n",
    "            sum_ij = 0\n",
    "            for k in range(muls):\n",
    "                \n",
    "                prod = m1[i][k] * m2[k][j]\n",
    "                sum_ij += prod\n",
    "            \n",
    "            m3[i][j] = sum_ij\n",
    "\n",
    "    return m3\n",
    "\n",
    "def matrix_mean_error(matrix, qmatrix):\n",
    "    error_sum = 0\n",
    "    for i in range(3):\n",
    "        for j in range(3):\n",
    "            error_sum += matrix[i][j] - qmatrix[i][j]\n",
    "\n",
    "    return error_sum / 9"
   ]
  },
  {
   "cell_type": "code",
   "execution_count": 32,
   "metadata": {},
   "outputs": [
    {
     "name": "stdout",
     "output_type": "stream",
     "text": [
      "[[0.         0.42857143 0.57142857]\n",
      " [0.         0.14285714 0.14285714]\n",
      " [0.         0.42857143 0.57142857]]\n",
      "[[0.22022548141122944 0.6949898520769704 0.6651542032535456]\n",
      " [0.10491086164105046 0.21866175948681021 0.2566208308375725]\n",
      " [0.18754238139277768 0.6394882922428217 0.5586597383177547]]\n",
      "0.14005990166069412\n"
     ]
    }
   ],
   "source": [
    "mat1 = np.random.rand(3, 3)\n",
    "mat2 = np.random.rand(3, 3)\n",
    "\n",
    "qmat1 = quantize_matrix(mat1, bits)\n",
    "qmat2 = quantize_matrix(mat2, bits)\n",
    "\n",
    "qmultmat = qMatMul(qmat1, qmat2, bits)\n",
    "qmultmat = dequantize_matrix(qmultmat, bits)\n",
    "print(qmultmat)\n",
    "multmat = MatMul(mat1, mat2)\n",
    "print(multmat)\n",
    "error = matrix_mean_error(multmat, qmultmat)\n",
    "print(error)"
   ]
  },
  {
   "cell_type": "code",
   "execution_count": 27,
   "metadata": {},
   "outputs": [
    {
     "data": {
      "text/plain": [
       "array([[1.0971929201650346, 0.8300955755690755, 0.8578356068287666],\n",
       "       [1.0486805680999427, 0.7734216607403637, 0.7293805343101658],\n",
       "       [1.0612144559032246, 0.8435318456286602, 0.9632253186201026]],\n",
       "      dtype=object)"
      ]
     },
     "execution_count": 27,
     "metadata": {},
     "output_type": "execute_result"
    }
   ],
   "source": [
    "multmat = MatMul(mat1, mat2)\n",
    "multmat"
   ]
  },
  {
   "cell_type": "code",
   "execution_count": 6,
   "metadata": {},
   "outputs": [
    {
     "name": "stdout",
     "output_type": "stream",
     "text": [
      "127\n",
      "a: 0.3590657458731036, b: 0.2235455496148533, a+b: 0.5826112954879569\n",
      "qa: 00101110, qb: 00011100, qa+qb: 000010100001000\n",
      "qai: 46, qbi: 28, (qa+qb)i: 1288\n",
      "dqa: 0.36220472440944884, dqb: 0.2204724409448819, d(qa+qb): 2.5205479452054793\n",
      "1288\n",
      "01111111\n",
      "001001010\n",
      "1.0\n"
     ]
    }
   ],
   "source": [
    "bits = 8\n",
    "print(qv.qMax_i(bits))\n",
    "a = random.uniform(0, 1)\n",
    "b = random.uniform(0, 1)\n",
    "print(f\"a: {a}, b: {b}, a+b: {a+b}\")\n",
    "qa = qv.quantize(a, bits)\n",
    "qb = qv.quantize(b, bits)\n",
    "print(f\"qa: {qa}, qb: {qb}, qa+qb: {qv.qMul(qa, qb)}\")\n",
    "print(f\"qai: {qv.qToInt(qa)}, qbi: {qv.qToInt(qb)}, (qa+qb)i: {qv.qToInt(qv.qMul(qa, qb))}\")\n",
    "print(f\"dqa: {qv.dequantize(qa)}, dqb: {qv.dequantize(qb)}, d(qa+qb): {qv.dequantize(qv.qMul(qa, qb), bits + 2)}\")\n",
    "sum = qv.qAdd(qa, qb)\n",
    "num = qv.quantize(a + b, bits)\n",
    "print(qv.qToInt(qv.qMul(qa, qb)))\n",
    "print(qv.qFromInt(qv.qToInt(qv.qMul(qa, qb)), bits))\n",
    "print(qv.qAdd(qa, qb))\n",
    "print(qv.dequantize(qv.qFromInt(qv.qToInt(qv.qMul(qa, qb)), bits), bits))"
   ]
  },
  {
   "cell_type": "code",
   "execution_count": null,
   "metadata": {},
   "outputs": [],
   "source": []
  },
  {
   "cell_type": "code",
   "execution_count": null,
   "metadata": {},
   "outputs": [],
   "source": []
  },
  {
   "cell_type": "code",
   "execution_count": null,
   "metadata": {},
   "outputs": [],
   "source": []
  },
  {
   "cell_type": "code",
   "execution_count": null,
   "metadata": {},
   "outputs": [],
   "source": []
  },
  {
   "cell_type": "code",
   "execution_count": null,
   "metadata": {},
   "outputs": [],
   "source": []
  },
  {
   "cell_type": "code",
   "execution_count": null,
   "metadata": {},
   "outputs": [],
   "source": []
  },
  {
   "cell_type": "code",
   "execution_count": null,
   "metadata": {},
   "outputs": [],
   "source": []
  },
  {
   "cell_type": "code",
   "execution_count": null,
   "metadata": {},
   "outputs": [],
   "source": []
  },
  {
   "cell_type": "code",
   "execution_count": null,
   "metadata": {},
   "outputs": [],
   "source": []
  },
  {
   "cell_type": "code",
   "execution_count": null,
   "metadata": {},
   "outputs": [],
   "source": []
  }
 ],
 "metadata": {
  "kernelspec": {
   "display_name": "Python 3 (ipykernel)",
   "language": "python",
   "name": "python3"
  },
  "language_info": {
   "codemirror_mode": {
    "name": "ipython",
    "version": 3
   },
   "file_extension": ".py",
   "mimetype": "text/x-python",
   "name": "python",
   "nbconvert_exporter": "python",
   "pygments_lexer": "ipython3",
   "version": "3.11.7"
  }
 },
 "nbformat": 4,
 "nbformat_minor": 4
}
