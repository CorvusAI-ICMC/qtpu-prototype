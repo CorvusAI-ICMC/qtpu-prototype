{
 "cells": [
  {
   "cell_type": "code",
   "execution_count": 1,
   "metadata": {},
   "outputs": [],
   "source": [
    "import qval as qv\n",
    "import numpy as np\n",
    "import random"
   ]
  },
  {
   "cell_type": "code",
   "execution_count": 2,
   "metadata": {},
   "outputs": [],
   "source": [
    "\n",
    "bits = 8\n",
    "\n",
    "def quantize_matrix(matrix, n):\n",
    "    rows, cols = matrix.shape\n",
    "\n",
    "    qmatrix = [[0 for _ in range(rows)] for _ in range(cols)]\n",
    "\n",
    "    for i in range(rows):\n",
    "        for j in range(cols):\n",
    "            qmatrix[i][j] = qv.quantize(matrix[i][j], n)\n",
    "\n",
    "    return np.array(qmatrix)\n",
    "\n",
    "def dequantize_matrix(qmatrix, n):\n",
    "    rows, cols = qmatrix.shape\n",
    "\n",
    "    matrix = [[0 for _ in range(rows)] for _ in range(cols)]\n",
    "\n",
    "    for i in range(rows):\n",
    "        for j in range(cols):\n",
    "            matrix[i][j] = qv.dequantize(qmatrix[i][j], n)\n",
    "\n",
    "    return np.array(matrix)\n",
    "\n"
   ]
  },
  {
   "cell_type": "code",
   "execution_count": 16,
   "metadata": {},
   "outputs": [],
   "source": [
    "def qMatMul(m1, m2, n):\n",
    "    rows = m1.shape[0]\n",
    "    cols = m2.shape[1]\n",
    "    muls = m2.shape[0]\n",
    "\n",
    "    m3 = np.array([[qv.qZERO(n) for _ in range(cols)] for _ in range(rows)], dtype=object)\n",
    "\n",
    "    for i in range(rows):\n",
    "        for j in range(cols):\n",
    "            sum_ij = qv.qZERO(n)\n",
    "            for k in range(muls):\n",
    "                prod = qv.qMul(m1[i][k], m2[k][j])\n",
    "                prev_sum = sum_ij\n",
    "                sum_ij = qv.qAdd(sum_ij, qv.qfit(prod, len(sum_ij)))\n",
    "                # print(f\"Adding: {qv.dequantize(prev_sum)} + {qv.dequantize(prod)}, i: {qv.dequantize(prev_sum) + qv.dequantize(prod)}, q:{qv.dequantize(sum_ij)}\")\n",
    "            m3[i][j] = qv.qfit(sum_ij, n)\n",
    "\n",
    "    return m3\n",
    "\n",
    "\n",
    "\n",
    "def MatMul(m1, m2):\n",
    "    rows = m1.shape[0]\n",
    "    cols = m2.shape[1]\n",
    "    muls = m2.shape[0]\n",
    "\n",
    "    m3 = np.array([[0 for _ in range(cols)] for _ in range(rows)], dtype=object)\n",
    "\n",
    "    for i in range(rows):\n",
    "        for j in range(cols):\n",
    "            sum_ij = 0\n",
    "            for k in range(muls):\n",
    "                \n",
    "                prod = m1[i][k] * m2[k][j]\n",
    "                sum_ij += prod\n",
    "            \n",
    "            m3[i][j] = sum_ij\n",
    "\n",
    "    return m3\n",
    "\n",
    "def matrix_mean_error(matrix, qmatrix):\n",
    "    error_sum = 0\n",
    "    for i in range(3):\n",
    "        for j in range(3):\n",
    "            error_sum += matrix[i][j] - qmatrix[i][j]\n",
    "\n",
    "    return error_sum / 9"
   ]
  },
  {
   "cell_type": "code",
   "execution_count": 36,
   "metadata": {},
   "outputs": [
    {
     "name": "stdout",
     "output_type": "stream",
     "text": [
      "-0.08425431353842151\n"
     ]
    }
   ],
   "source": [
    "def mean_error():\n",
    "    error = 0\n",
    "    tests = 10000\n",
    "    for i in range(tests):\n",
    "        mat1 = np.random.uniform(-1, 1, (3, 3))\n",
    "        mat2 = np.random.uniform(-1, 1, (3, 3))\n",
    "    \n",
    "        qmat1 = quantize_matrix(mat1, bits)\n",
    "        qmat2 = quantize_matrix(mat2, bits)\n",
    "    \n",
    "        qmultmat = qMatMul(qmat1, qmat2, bits)\n",
    "        qmultmat = dequantize_matrix(qmultmat, bits)\n",
    "        multmat = MatMul(mat1, mat2)\n",
    "    \n",
    "        error += matrix_mean_error(multmat, qmultmat)\n",
    "    return error/tests\n",
    "\n",
    "print(mean_error())\n"
   ]
  },
  {
   "cell_type": "code",
   "execution_count": 5,
   "metadata": {},
   "outputs": [
    {
     "data": {
      "text/plain": [
       "array([[-0.5280214738723044, 0.45960742546494526, 0.09170268026185055],\n",
       "       [-0.42072707273493903, 0.21763617814710245, -0.3377369714648636],\n",
       "       [-0.7308341385395363, 0.5331974667929116, 0.13965635628030512]],\n",
       "      dtype=object)"
      ]
     },
     "execution_count": 5,
     "metadata": {},
     "output_type": "execute_result"
    }
   ],
   "source": []
  },
  {
   "cell_type": "code",
   "execution_count": 6,
   "metadata": {},
   "outputs": [
    {
     "name": "stdout",
     "output_type": "stream",
     "text": [
      "127\n",
      "a: 0.9762113479316431, b: 0.5692960697102762, a+b: 1.5455074176419195\n",
      "qa: 01111100, qb: 01001000, qa+qb: 01111111\n",
      "qai: 124, qbi: 72, (qa+qb)i: 127\n",
      "dqa: 0.9763779527559056, dqb: 0.5669291338582677, d(qa+qb): 1.0\n",
      "1.0\n"
     ]
    }
   ],
   "source": [
    "\n",
    "print(qv.qMax_i(bits))\n",
    "a = random.uniform(0, 1)\n",
    "b = random.uniform(0, 1)\n",
    "print(f\"a: {a}, b: {b}, a+b: {a+b}\")\n",
    "qa = qv.quantize(a, bits)\n",
    "qb = qv.quantize(b, bits)\n",
    "print(f\"qa: {qa}, qb: {qb}, qa+qb: {qv.qAdd(qa, qb)}\")\n",
    "print(f\"qai: {qv.qToInt(qa)}, qbi: {qv.qToInt(qb)}, (qa+qb)i: {qv.qToInt(qv.qAdd(qa, qb))}\")\n",
    "print(f\"dqa: {qv.dequantize(qa)}, dqb: {qv.dequantize(qb)}, d(qa+qb): {qv.dequantize(qv.qAdd(qa, qb), bits)}\")\n",
    "print(qv.dequantize(qv.qFromInt(qv.qToInt(qv.qAdd(qa, qb)), bits), bits))"
   ]
  },
  {
   "cell_type": "code",
   "execution_count": 7,
   "metadata": {},
   "outputs": [
    {
     "name": "stdout",
     "output_type": "stream",
     "text": [
      "127\n",
      "a: 0.9762113479316431, b: 0.5692960697102762, a*b: 0.5557532835840554\n",
      "qa: 01111100, qb: 01001000, qa*qb: 01000101\n",
      "qai: 124, qbi: 72, (qa*qb)i: 69\n",
      "dqa: 0.9763779527559056, dqb: 0.5669291338582677, d(qa*qb): 0.5433070866141733\n",
      "0.5433070866141733\n"
     ]
    }
   ],
   "source": [
    "bits = 8\n",
    "print(qv.qMax_i(bits))\n",
    "print(f\"a: {a}, b: {b}, a*b: {a*b}\")\n",
    "qa = qv.quantize(a, bits)\n",
    "qb = qv.quantize(b, bits)\n",
    "print(f\"qa: {qa}, qb: {qb}, qa*qb: {qv.qMul(qa, qb)}\")\n",
    "print(f\"qai: {qv.qToInt(qa)}, qbi: {qv.qToInt(qb)}, (qa*qb)i: {qv.qToInt(qv.qMul(qa, qb))}\")\n",
    "print(f\"dqa: {qv.dequantize(qa)}, dqb: {qv.dequantize(qb)}, d(qa*qb): {qv.dequantize(qv.qMul(qa, qb), None)}\")\n",
    "print(qv.dequantize(qv.qFromInt(qv.qToInt(qv.qMul(qa, qb)), bits), bits))"
   ]
  },
  {
   "cell_type": "code",
   "execution_count": null,
   "metadata": {},
   "outputs": [],
   "source": []
  },
  {
   "cell_type": "code",
   "execution_count": null,
   "metadata": {},
   "outputs": [],
   "source": []
  },
  {
   "cell_type": "code",
   "execution_count": null,
   "metadata": {},
   "outputs": [],
   "source": []
  },
  {
   "cell_type": "code",
   "execution_count": null,
   "metadata": {},
   "outputs": [],
   "source": []
  },
  {
   "cell_type": "code",
   "execution_count": null,
   "metadata": {},
   "outputs": [],
   "source": []
  },
  {
   "cell_type": "code",
   "execution_count": null,
   "metadata": {},
   "outputs": [],
   "source": []
  },
  {
   "cell_type": "code",
   "execution_count": null,
   "metadata": {},
   "outputs": [],
   "source": []
  },
  {
   "cell_type": "code",
   "execution_count": null,
   "metadata": {},
   "outputs": [],
   "source": []
  },
  {
   "cell_type": "code",
   "execution_count": null,
   "metadata": {},
   "outputs": [],
   "source": []
  }
 ],
 "metadata": {
  "kernelspec": {
   "display_name": "Python 3 (ipykernel)",
   "language": "python",
   "name": "python3"
  },
  "language_info": {
   "codemirror_mode": {
    "name": "ipython",
    "version": 3
   },
   "file_extension": ".py",
   "mimetype": "text/x-python",
   "name": "python",
   "nbconvert_exporter": "python",
   "pygments_lexer": "ipython3",
   "version": "3.11.7"
  }
 },
 "nbformat": 4,
 "nbformat_minor": 4
}
