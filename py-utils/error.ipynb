{
 "cells": [
  {
   "cell_type": "code",
   "execution_count": 1,
   "metadata": {},
   "outputs": [],
   "source": [
    "import qval as qv\n",
    "import numpy as np\n",
    "import random"
   ]
  },
  {
   "cell_type": "code",
   "execution_count": 2,
   "metadata": {},
   "outputs": [],
   "source": [
    "\n",
    "bits = 8\n",
    "\n",
    "def quantize_matrix(matrix, n):\n",
    "    rows, cols = matrix.shape\n",
    "\n",
    "    qmatrix = [[0 for _ in range(rows)] for _ in range(cols)]\n",
    "\n",
    "    for i in range(rows):\n",
    "        for j in range(cols):\n",
    "            qmatrix[i][j] = qv.quantize(matrix[i][j], n)\n",
    "\n",
    "    return np.array(qmatrix)\n",
    "\n",
    "def dequantize_matrix(qmatrix, n):\n",
    "    rows, cols = qmatrix.shape\n",
    "\n",
    "    matrix = [[0 for _ in range(rows)] for _ in range(cols)]\n",
    "\n",
    "    for i in range(rows):\n",
    "        for j in range(cols):\n",
    "            matrix[i][j] = qv.dequantize(qmatrix[i][j], n)\n",
    "\n",
    "    return np.array(matrix)\n",
    "\n"
   ]
  },
  {
   "cell_type": "code",
   "execution_count": 3,
   "metadata": {},
   "outputs": [],
   "source": [
    "def qMatMul(m1, m2, n):\n",
    "    rows = m1.shape[0]\n",
    "    cols = m2.shape[1]\n",
    "    muls = m2.shape[0]\n",
    "\n",
    "    m3 = np.array([[qv.qZERO(n) for _ in range(cols)] for _ in range(rows)], dtype=object)\n",
    "\n",
    "    for i in range(rows):\n",
    "        for j in range(cols):\n",
    "            sum_ij = qv.qZERO(n)\n",
    "            for k in range(muls):\n",
    "                prod = qv.qMul(m1[i][k], m2[k][j])\n",
    "                prev_sum = sum_ij\n",
    "                sum_ij = qv.qAdd(sum_ij, qv.qfit(prod, len(sum_ij)))\n",
    "                print(f\"Adding: {qv.dequantize(prev_sum)} + {qv.dequantize(prod)}, i: {qv.dequantize(prev_sum) + qv.dequantize(prod)}, q:{qv.dequantize(sum_ij)}\")\n",
    "            m3[i][j] = qv.qfit(sum_ij, n)\n",
    "\n",
    "    return m3\n",
    "\n",
    "\n",
    "\n",
    "def MatMul(m1, m2):\n",
    "    rows = m1.shape[0]\n",
    "    cols = m2.shape[1]\n",
    "    muls = m2.shape[0]\n",
    "\n",
    "    m3 = np.array([[0 for _ in range(cols)] for _ in range(rows)], dtype=object)\n",
    "\n",
    "    for i in range(rows):\n",
    "        for j in range(cols):\n",
    "            sum_ij = 0\n",
    "            for k in range(muls):\n",
    "                \n",
    "                prod = m1[i][k] * m2[k][j]\n",
    "                sum_ij += prod\n",
    "            \n",
    "            m3[i][j] = sum_ij\n",
    "\n",
    "    return m3\n",
    "\n",
    "def matrix_mean_error(matrix, qmatrix):\n",
    "    error_sum = 0\n",
    "    for i in range(3):\n",
    "        for j in range(3):\n",
    "            error_sum += matrix[i][j] - qmatrix[i][j]\n",
    "\n",
    "    return error_sum / 9"
   ]
  },
  {
   "cell_type": "code",
   "execution_count": 4,
   "metadata": {},
   "outputs": [
    {
     "name": "stdout",
     "output_type": "stream",
     "text": [
      "Adding: 0.0 + -0.11023622047244094, i: -0.11023622047244094, q:-0.05511811023622047\n",
      "Adding: -0.05511811023622047 + 0.14960629921259844, i: 0.09448818897637797, q:0.047244094488188976\n",
      "Adding: 0.047244094488188976 + 0.047244094488188976, i: 0.09448818897637795, q:0.047244094488188976\n",
      "Adding: 0.0 + 0.2677165354330709, i: 0.2677165354330709, q:0.13385826771653545\n",
      "Adding: 0.13385826771653545 + -0.25196850393700787, i: -0.11811023622047243, q:-0.05511811023622047\n",
      "Adding: -0.05511811023622047 + 0.0, i: -0.05511811023622047, q:-0.023622047244094488\n",
      "Adding: 0.0 + 0.18110236220472442, i: 0.18110236220472442, q:0.08661417322834646\n",
      "Adding: 0.08661417322834646 + 0.25984251968503935, i: 0.3464566929133858, q:0.1732283464566929\n",
      "Adding: 0.1732283464566929 + 0.0, i: 0.1732283464566929, q:0.08661417322834646\n",
      "Adding: 0.0 + -0.09448818897637795, i: -0.09448818897637795, q:-0.047244094488188976\n",
      "Adding: -0.047244094488188976 + 0.25984251968503935, i: 0.21259842519685038, q:0.10236220472440945\n",
      "Adding: 0.10236220472440945 + -0.33858267716535434, i: -0.2362204724409449, q:-0.11811023622047244\n",
      "Adding: 0.0 + 0.2204724409448819, i: 0.2204724409448819, q:0.11023622047244094\n",
      "Adding: 0.11023622047244094 + -0.4251968503937008, i: -0.31496062992125984, q:-0.15748031496062992\n",
      "Adding: -0.15748031496062992 + -0.047244094488188976, i: -0.2047244094488189, q:-0.10236220472440945\n",
      "Adding: 0.0 + 0.14960629921259844, i: 0.14960629921259844, q:0.07086614173228346\n",
      "Adding: 0.07086614173228346 + 0.4409448818897638, i: 0.5118110236220472, q:0.25196850393700787\n",
      "Adding: 0.25196850393700787 + nan, i: nan, q:0.12598425196850394\n",
      "Adding: 0.0 + -0.25984251968503935, i: -0.25984251968503935, q:-0.12598425196850394\n",
      "Adding: -0.12598425196850394 + -0.11023622047244094, i: -0.23622047244094488, q:-0.11811023622047244\n",
      "Adding: -0.11811023622047244 + -0.023622047244094488, i: -0.14173228346456693, q:-0.07086614173228346\n",
      "Adding: 0.0 + 0.6220472440944882, i: 0.6220472440944882, q:0.30708661417322836\n",
      "Adding: 0.30708661417322836 + 0.18110236220472442, i: 0.4881889763779528, q:0.2440944881889764\n",
      "Adding: 0.2440944881889764 + nan, i: nan, q:0.11811023622047244\n",
      "Adding: 0.0 + 0.4330708661417323, i: 0.4330708661417323, q:0.2125984251968504\n",
      "Adding: 0.2125984251968504 + -0.1889763779527559, i: 0.023622047244094502, q:0.007874015748031496\n",
      "Adding: 0.007874015748031496 + nan, i: nan, q:0.0\n",
      "[[ 0.04724409 -0.02362205  0.08661417]\n",
      " [-0.11811024 -0.1023622   0.12598425]\n",
      " [-0.07086614  0.11811024  0.        ]]\n",
      "[[0.09494943937879943 0.022233107393803565 0.4546079439336986]\n",
      " [-0.17634214779852608 -0.24780074165402152 0.6063199825355803]\n",
      " [-0.4126044788689236 0.8157400083470063 0.23912298632681453]]\n",
      "0.14813710817888662\n"
     ]
    }
   ],
   "source": [
    "mat1 = np.random.uniform(-1, 1, (3, 3))\n",
    "mat2 = np.random.uniform(-1, 1, (3, 3))\n",
    "\n",
    "qmat1 = quantize_matrix(mat1, bits)\n",
    "qmat2 = quantize_matrix(mat2, bits)\n",
    "\n",
    "qmultmat = qMatMul(qmat1, qmat2, bits)\n",
    "qmultmat = dequantize_matrix(qmultmat, bits)\n",
    "print(qmultmat)\n",
    "multmat = MatMul(mat1, mat2)\n",
    "\n",
    "print(multmat)\n",
    "error = matrix_mean_error(multmat, qmultmat)\n",
    "print(error)"
   ]
  },
  {
   "cell_type": "code",
   "execution_count": 5,
   "metadata": {},
   "outputs": [
    {
     "data": {
      "text/plain": [
       "array([[0.09494943937879943, 0.022233107393803565, 0.4546079439336986],\n",
       "       [-0.17634214779852608, -0.24780074165402152, 0.6063199825355803],\n",
       "       [-0.4126044788689236, 0.8157400083470063, 0.23912298632681453]],\n",
       "      dtype=object)"
      ]
     },
     "execution_count": 5,
     "metadata": {},
     "output_type": "execute_result"
    }
   ],
   "source": [
    "multmat = MatMul(mat1, mat2)\n",
    "multmat"
   ]
  },
  {
   "cell_type": "code",
   "execution_count": 6,
   "metadata": {},
   "outputs": [
    {
     "name": "stdout",
     "output_type": "stream",
     "text": [
      "127\n",
      "a: 0.5903839748627109, b: 0.8603537209006025, a+b: 1.4507376957633134\n",
      "qa: 01001011, qb: 01101101, qa+qb: 01011100\n",
      "qai: 75, qbi: 109, (qa+qb)i: 92\n",
      "dqa: 0.5905511811023622, dqb: 0.8582677165354331, d(qa+qb): 0.7244094488188977\n",
      "0.7244094488188977\n"
     ]
    }
   ],
   "source": [
    "\n",
    "print(qv.qMax_i(bits))\n",
    "a = random.uniform(0, 1)\n",
    "b = random.uniform(0, 1)\n",
    "print(f\"a: {a}, b: {b}, a+b: {a+b}\")\n",
    "qa = qv.quantize(a, bits)\n",
    "qb = qv.quantize(b, bits)\n",
    "print(f\"qa: {qa}, qb: {qb}, qa+qb: {qv.qAdd(qa, qb)}\")\n",
    "print(f\"qai: {qv.qToInt(qa)}, qbi: {qv.qToInt(qb)}, (qa+qb)i: {qv.qToInt(qv.qAdd(qa, qb))}\")\n",
    "print(f\"dqa: {qv.dequantize(qa)}, dqb: {qv.dequantize(qb)}, d(qa+qb): {qv.dequantize(qv.qAdd(qa, qb), bits)}\")\n",
    "print(qv.dequantize(qv.qFromInt(qv.qToInt(qv.qAdd(qa, qb)), bits), bits))"
   ]
  },
  {
   "cell_type": "code",
   "execution_count": 7,
   "metadata": {},
   "outputs": [
    {
     "name": "stdout",
     "output_type": "stream",
     "text": [
      "127\n",
      "a: 0.5903839748627109, b: 0.8603537209006025, a*b: 0.5079390495332211\n",
      "qa: 01001011, qb: 01101101, qa*qb: 00111111\n",
      "qai: 75, qbi: 109, (qa*qb)i: 63\n",
      "dqa: 0.5905511811023622, dqb: 0.8582677165354331, d(qa*qb): 0.49606299212598426\n",
      "0.49606299212598426\n"
     ]
    }
   ],
   "source": [
    "bits = 8\n",
    "print(qv.qMax_i(bits))\n",
    "print(f\"a: {a}, b: {b}, a*b: {a*b}\")\n",
    "qa = qv.quantize(a, bits)\n",
    "qb = qv.quantize(b, bits)\n",
    "print(f\"qa: {qa}, qb: {qb}, qa*qb: {qv.qMul(qa, qb)}\")\n",
    "print(f\"qai: {qv.qToInt(qa)}, qbi: {qv.qToInt(qb)}, (qa*qb)i: {qv.qToInt(qv.qMul(qa, qb))}\")\n",
    "print(f\"dqa: {qv.dequantize(qa)}, dqb: {qv.dequantize(qb)}, d(qa*qb): {qv.dequantize(qv.qMul(qa, qb), None)}\")\n",
    "print(qv.dequantize(qv.qFromInt(qv.qToInt(qv.qMul(qa, qb)), bits), bits))"
   ]
  },
  {
   "cell_type": "code",
   "execution_count": null,
   "metadata": {},
   "outputs": [],
   "source": []
  },
  {
   "cell_type": "code",
   "execution_count": null,
   "metadata": {},
   "outputs": [],
   "source": []
  },
  {
   "cell_type": "code",
   "execution_count": null,
   "metadata": {},
   "outputs": [],
   "source": []
  },
  {
   "cell_type": "code",
   "execution_count": null,
   "metadata": {},
   "outputs": [],
   "source": []
  },
  {
   "cell_type": "code",
   "execution_count": null,
   "metadata": {},
   "outputs": [],
   "source": []
  },
  {
   "cell_type": "code",
   "execution_count": null,
   "metadata": {},
   "outputs": [],
   "source": []
  },
  {
   "cell_type": "code",
   "execution_count": null,
   "metadata": {},
   "outputs": [],
   "source": []
  },
  {
   "cell_type": "code",
   "execution_count": null,
   "metadata": {},
   "outputs": [],
   "source": []
  },
  {
   "cell_type": "code",
   "execution_count": null,
   "metadata": {},
   "outputs": [],
   "source": []
  }
 ],
 "metadata": {
  "kernelspec": {
   "display_name": "Python 3 (ipykernel)",
   "language": "python",
   "name": "python3"
  },
  "language_info": {
   "codemirror_mode": {
    "name": "ipython",
    "version": 3
   },
   "file_extension": ".py",
   "mimetype": "text/x-python",
   "name": "python",
   "nbconvert_exporter": "python",
   "pygments_lexer": "ipython3",
   "version": "3.11.7"
  }
 },
 "nbformat": 4,
 "nbformat_minor": 4
}
