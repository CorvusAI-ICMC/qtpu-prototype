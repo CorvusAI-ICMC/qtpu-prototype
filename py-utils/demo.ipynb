{
 "cells": [
  {
   "cell_type": "code",
   "execution_count": 1,
   "metadata": {},
   "outputs": [],
   "source": [
    "import qval as qv"
   ]
  },
  {
   "cell_type": "code",
   "execution_count": 2,
   "metadata": {},
   "outputs": [
    {
     "data": {
      "text/plain": [
       "qval(q='001', n=3, d='1', i='1')"
      ]
     },
     "execution_count": 2,
     "metadata": {},
     "output_type": "execute_result"
    }
   ],
   "source": [
    "A = qv.quantize(0.499999, 3)\n",
    "A"
   ]
  },
  {
   "cell_type": "code",
   "execution_count": 3,
   "metadata": {},
   "outputs": [
    {
     "data": {
      "text/plain": [
       "0.3333333333333333"
      ]
     },
     "execution_count": 3,
     "metadata": {},
     "output_type": "execute_result"
    }
   ],
   "source": [
    "qv.dequantize(A)"
   ]
  },
  {
   "cell_type": "code",
   "execution_count": 4,
   "metadata": {},
   "outputs": [
    {
     "data": {
      "text/plain": [
       "qval(q='10100', n=5, d='20', i='-4')"
      ]
     },
     "execution_count": 4,
     "metadata": {},
     "output_type": "execute_result"
    }
   ],
   "source": [
    "a = qv.qval('010')\n",
    "b = qv.qval('110')\n",
    "\n",
    "a.__mul__(b)"
   ]
  },
  {
   "cell_type": "code",
   "execution_count": 5,
   "metadata": {},
   "outputs": [
    {
     "data": {
      "text/plain": [
       "qval(q='010', n=3, d='2', i='2')"
      ]
     },
     "execution_count": 5,
     "metadata": {},
     "output_type": "execute_result"
    }
   ],
   "source": [
    "q = qv.qval('001')\n",
    "\n",
    "qv.qSigmoid(q)"
   ]
  },
  {
   "cell_type": "code",
   "execution_count": 6,
   "metadata": {},
   "outputs": [
    {
     "name": "stdout",
     "output_type": "stream",
     "text": [
      "1.0\n",
      "0.28517365561862906\n"
     ]
    }
   ],
   "source": [
    "n1 = qv.quantize(0.5, 8)\n",
    "n2 = qv.quantize(0.5, 4)\n",
    "\n",
    "\n",
    "print(qv.dequantize(qv.qAdd(n1, n2)))\n",
    "print(qv.dequantize(qv.qMul(n1, n2)))"
   ]
  },
  {
   "cell_type": "code",
   "execution_count": 7,
   "metadata": {},
   "outputs": [
    {
     "name": "stdout",
     "output_type": "stream",
     "text": [
      "1.0\n",
      "0.2500152597204419\n"
     ]
    }
   ],
   "source": [
    "import torch\n",
    "\n",
    "a = torch.tensor(0.5)\n",
    "b = torch.tensor(0.5)\n",
    "\n",
    "qa = qv.quantize(a.item(), 8)\n",
    "qb = qv.quantize(b.item(), 8)\n",
    "\n",
    "\n",
    "print(qv.dequantize(qv.qAdd(qa, qb)))\n",
    "print(qv.dequantize(qv.qMul(qa, qb)))"
   ]
  },
  {
   "cell_type": "code",
   "execution_count": 8,
   "metadata": {},
   "outputs": [
    {
     "name": "stdout",
     "output_type": "stream",
     "text": [
      "-0.1343405395746231\n"
     ]
    }
   ],
   "source": [
    "in_len = 10\n",
    "out_len = 1\n",
    "layer = torch.nn.Linear(in_len, out_len)\n",
    "input_test = torch.tensor([0.1, 0.2, 0.3, 0.4, 0.5, 0.6, 0.7, 0.8, 0.9, 1.0])\n",
    "\n",
    "print(layer(input_test).item())"
   ]
  },
  {
   "cell_type": "code",
   "execution_count": 9,
   "metadata": {},
   "outputs": [
    {
     "name": "stdout",
     "output_type": "stream",
     "text": [
      "[-0.07086614173228346, -0.28346456692913385, 0.2204724409448819, 0.1968503937007874, -0.18110236220472442, 0.1889763779527559, 0.13385826771653545, 0.11023622047244094, -0.14173228346456693, -0.2204724409448819]\n",
      "[-0.07025733590126038, -0.28417205810546875, 0.21682080626487732, 0.19404685497283936, -0.18068020045757294, 0.18948307633399963, 0.13393481075763702, 0.11250212788581848, -0.14335717260837555, -0.2212885469198227]\n",
      "\n",
      "\n",
      "-0.07086614173228346 -0.0699412077665329\n"
     ]
    }
   ],
   "source": [
    "# Quantize layer\n",
    "from qval import qval\n",
    "\n",
    "in_params, out_params = layer.parameters()\n",
    "in_params = list(in_params)\n",
    "\n",
    "if in_len > 1:\n",
    "    in_params = in_params[0]\n",
    "\n",
    "q_in_params = []\n",
    "for param in in_params:\n",
    "    # q_in_params.append(qv.quantize(param.item(), 8))\n",
    "    q_in_params.append(qval(param.item(), 8))\n",
    "\n",
    "if out_len > 1:\n",
    "    out_params = out_params[0]\n",
    "\n",
    "q_out_params = []\n",
    "for param in out_params:\n",
    "    # q_out_params.append(qv.quantize(param.item(), 8))\n",
    "    q_out_params.append(qval(param.item(), 8))\n",
    "\n",
    "print([qv.dequantize(x) for x in q_in_params])\n",
    "print([param.item() for param in in_params])\n",
    "print()\n",
    "print()\n",
    "print(qv.dequantize(q_out_params[0]), out_params[0].item())"
   ]
  },
  {
   "cell_type": "code",
   "execution_count": 10,
   "metadata": {},
   "outputs": [
    {
     "name": "stdout",
     "output_type": "stream",
     "text": [
      "[0.10236220472440945, 0.1968503937007874, 0.2992125984251969, 0.4015748031496063, 0.5039370078740157, 0.5984251968503937, 0.7007874015748031, 0.8031496062992126, 0.8976377952755905, 1.0]\n"
     ]
    }
   ],
   "source": [
    "# print(q_in_params)\n",
    "# print(input_test[0])\n",
    "q_input = [qval(q.item(), 8) for q in input_test]\n",
    "\n",
    "print([v.val() for v in q_input])\n",
    "\n",
    "# result = qv.quantize(0.0, 8)\n",
    "# for param, x in zip(q_in_params, q_input):\n",
    "#     result = qv.qAdd(result, param * x)\n",
    "    \n",
    "# print(qv.dequantize(result))"
   ]
  },
  {
   "cell_type": "code",
   "execution_count": 11,
   "metadata": {},
   "outputs": [],
   "source": [
    "def execute_layer(q_in_params, q_out_params, input_test, bits=8):\n",
    "    q_input = [qval(q.item(), bits) for q in input_test]\n",
    "\n",
    "    result = qval(0.0, bits)\n",
    "    for param, x in zip(q_in_params, q_input):\n",
    "        result = (result + param * x)\n",
    "\n",
    "    return (result + q_out_params[0])"
   ]
  },
  {
   "cell_type": "code",
   "execution_count": 12,
   "metadata": {},
   "outputs": [
    {
     "data": {
      "text/plain": [
       "-0.13147775132759568"
      ]
     },
     "execution_count": 12,
     "metadata": {},
     "output_type": "execute_result"
    }
   ],
   "source": [
    "execute_layer(q_in_params, q_out_params, input_test).val()"
   ]
  },
  {
   "cell_type": "code",
   "execution_count": 13,
   "metadata": {},
   "outputs": [
    {
     "name": "stdout",
     "output_type": "stream",
     "text": [
      "0.15422247350215912 0.15198681560153818\n",
      "Diff: 0.002235657900620941\n"
     ]
    }
   ],
   "source": [
    "import random\n",
    "random_values = [random.random() for _ in range(10)]\n",
    "random_input = torch.tensor(random_values)\n",
    "\n",
    "original = layer(random_input).item()\n",
    "quantized = execute_layer(q_in_params, q_out_params, random_input).val()\n",
    "\n",
    "print(original, quantized)\n",
    "print(f\"Diff: {abs(original - quantized)}\")\n",
    "\n",
    "if abs(original - quantized) > 0.3:\n",
    "    print([x.item() for x in random_input])\n",
    "    q_input = [qval(x, 8) for x in random_values]\n",
    "\n",
    "    print([q.val for q in q_input])"
   ]
  },
  {
   "cell_type": "code",
   "execution_count": 21,
   "metadata": {},
   "outputs": [],
   "source": [
    "for _ in range(10000):\n",
    "    random_values = [random.random() for _ in range(10)]\n",
    "    random_input = torch.tensor(random_values)\n",
    "\n",
    "    original = layer(random_input).item()\n",
    "    quantized = execute_layer(q_in_params, q_out_params, random_input).val()\n",
    "\n",
    "    # print(original, quantized)\n",
    "    # print(f\"Diff: {abs(original - quantized)}\")\n",
    "    # print(abs(original - quantized))\n",
    "\n",
    "    if abs(original - quantized) > 0.3:\n",
    "        print([x.item() for x in random_input])\n",
    "        q_input = [qval(x, 8) for x in random_values]\n",
    "\n",
    "        print([q.val for q in q_input])"
   ]
  },
  {
   "cell_type": "code",
   "execution_count": 15,
   "metadata": {},
   "outputs": [
    {
     "data": {
      "text/plain": [
       "Input layers: q8\n",
       "0 [0.10236220472440945, 0.1968503937007874, 0.2992125984251969, 0.4015748031496063, 0.5039370078740157, 0.5984251968503937, 0.7007874015748031, 0.8031496062992126, 0.8976377952755905, 1.0]\n",
       "1 [0.10236220472440945, 0.1968503937007874, 0.2992125984251969, 0.4015748031496063, 0.5039370078740157, 0.5984251968503937, 0.7007874015748031, 0.8031496062992126, 0.8976377952755905, 1.0]\n",
       "2 [0.10236220472440945, 0.1968503937007874, 0.2992125984251969, 0.4015748031496063, 0.5039370078740157, 0.5984251968503937, 0.7007874015748031, 0.8031496062992126, 0.8976377952755905, 1.0]\n",
       "3 [0.10236220472440945, 0.1968503937007874, 0.2992125984251969, 0.4015748031496063, 0.5039370078740157, 0.5984251968503937, 0.7007874015748031, 0.8031496062992126, 0.8976377952755905, 1.0]\n",
       "4 [0.10236220472440945, 0.1968503937007874, 0.2992125984251969, 0.4015748031496063, 0.5039370078740157, 0.5984251968503937, 0.7007874015748031, 0.8031496062992126, 0.8976377952755905, 1.0]\n",
       "5 [0.10236220472440945, 0.1968503937007874, 0.2992125984251969, 0.4015748031496063, 0.5039370078740157, 0.5984251968503937, 0.7007874015748031, 0.8031496062992126, 0.8976377952755905, 1.0]\n",
       "6 [0.10236220472440945, 0.1968503937007874, 0.2992125984251969, 0.4015748031496063, 0.5039370078740157, 0.5984251968503937, 0.7007874015748031, 0.8031496062992126, 0.8976377952755905, 1.0]\n",
       "7 [0.10236220472440945, 0.1968503937007874, 0.2992125984251969, 0.4015748031496063, 0.5039370078740157, 0.5984251968503937, 0.7007874015748031, 0.8031496062992126, 0.8976377952755905, 1.0]\n",
       "8 [0.10236220472440945, 0.1968503937007874, 0.2992125984251969, 0.4015748031496063, 0.5039370078740157, 0.5984251968503937, 0.7007874015748031, 0.8031496062992126, 0.8976377952755905, 1.0]\n",
       "9 [0.10236220472440945, 0.1968503937007874, 0.2992125984251969, 0.4015748031496063, 0.5039370078740157, 0.5984251968503937, 0.7007874015748031, 0.8031496062992126, 0.8976377952755905, 1.0]\n",
       "Output layers: q8 [0.10236220472440945, 0.1968503937007874, 0.2992125984251969, 0.4015748031496063, 0.5039370078740157, 0.5984251968503937, 0.7007874015748031, 0.8031496062992126, 0.8976377952755905, 1.0] "
      ]
     },
     "execution_count": 15,
     "metadata": {},
     "output_type": "execute_result"
    }
   ],
   "source": [
    "from qval.qlayer import qdense\n",
    "\n",
    "input_params = [[0.1, 0.2, 0.3, 0.4, 0.5, 0.6, 0.7, 0.8, 0.9, 1.0] for _ in range(10)]\n",
    "out_params = [0.1, 0.2, 0.3, 0.4, 0.5, 0.6, 0.7, 0.8, 0.9, 1.0]\n",
    "teste = qdense(input_params, out_params)\n",
    "teste"
   ]
  },
  {
   "cell_type": "code",
   "execution_count": 16,
   "metadata": {},
   "outputs": [
    {
     "data": {
      "text/plain": [
       "[1.0, 1.0, 1.0, 1.0, 1.0, 1.0, 1.0, 1.0, 1.0, 1.0]"
      ]
     },
     "execution_count": 16,
     "metadata": {},
     "output_type": "execute_result"
    }
   ],
   "source": [
    "input_test = [0.1, 0.2, 0.3, 0.4, 0.5, 0.6, 0.7, 0.8, 0.9, 5.0]\n",
    "\n",
    "output = teste.process(input_test)\n",
    "\n",
    "[x.val() for x in output]"
   ]
  },
  {
   "cell_type": "code",
   "execution_count": 17,
   "metadata": {},
   "outputs": [
    {
     "data": {
      "text/plain": [
       "0.9844961240310077"
      ]
     },
     "execution_count": 17,
     "metadata": {},
     "output_type": "execute_result"
    }
   ],
   "source": [
    "a = qval(6.5)\n",
    "b = qval(2.0)\n",
    "\n",
    "(a * b).val()"
   ]
  },
  {
   "cell_type": "code",
   "execution_count": 18,
   "metadata": {},
   "outputs": [
    {
     "data": {
      "text/plain": [
       "1.0"
      ]
     },
     "execution_count": 18,
     "metadata": {},
     "output_type": "execute_result"
    }
   ],
   "source": [
    "a.val()"
   ]
  },
  {
   "cell_type": "code",
   "execution_count": 19,
   "metadata": {},
   "outputs": [
    {
     "name": "stdout",
     "output_type": "stream",
     "text": [
      "6.5\n",
      "1.0748031496062993 6.5\n"
     ]
    }
   ],
   "source": [
    "from qval import qval\n",
    "a = qval(6.5, scale=6.0)\n",
    "print(a.scale)\n",
    "print(a.val(), a.scale)"
   ]
  },
  {
   "cell_type": "code",
   "execution_count": 20,
   "metadata": {},
   "outputs": [],
   "source": [
    "a = qval(6.5)\n",
    "b = qval(2.0)"
   ]
  }
 ],
 "metadata": {
  "kernelspec": {
   "display_name": "Python 3 (ipykernel)",
   "language": "python",
   "name": "python3"
  },
  "language_info": {
   "codemirror_mode": {
    "name": "ipython",
    "version": 3
   },
   "file_extension": ".py",
   "mimetype": "text/x-python",
   "name": "python",
   "nbconvert_exporter": "python",
   "pygments_lexer": "ipython3",
   "version": "3.12.5"
  }
 },
 "nbformat": 4,
 "nbformat_minor": 4
}
