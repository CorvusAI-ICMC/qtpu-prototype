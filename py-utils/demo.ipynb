{
 "cells": [
  {
   "cell_type": "code",
   "execution_count": 3,
   "metadata": {},
   "outputs": [],
   "source": [
    "import qval as qv"
   ]
  },
  {
   "cell_type": "code",
   "execution_count": null,
   "metadata": {},
   "outputs": [],
   "source": [
    "A = qv.quantize(0.499999, 3)\n",
    "A"
   ]
  },
  {
   "cell_type": "code",
   "execution_count": null,
   "metadata": {},
   "outputs": [],
   "source": [
    "qv.dequantize(A)"
   ]
  },
  {
   "cell_type": "code",
   "execution_count": null,
   "metadata": {},
   "outputs": [],
   "source": [
    "a = qv.qval('010')\n",
    "b = qv.qval('110')\n",
    "\n",
    "a.__mul__(b)"
   ]
  },
  {
   "cell_type": "code",
   "execution_count": null,
   "metadata": {},
   "outputs": [],
   "source": [
    "q = qv.qval('001')\n",
    "\n",
    "qv.qSigmoid(q)"
   ]
  },
  {
   "cell_type": "code",
   "execution_count": null,
   "metadata": {},
   "outputs": [],
   "source": [
    "n1 = qv.quantize(0.5, 8)\n",
    "n2 = qv.quantize(0.5, 4)\n",
    "\n",
    "\n",
    "print(qv.dequantize(qv.qAdd(n1, n2)))\n",
    "print(qv.dequantize(qv.qMul(n1, n2)))"
   ]
  },
  {
   "cell_type": "code",
   "execution_count": null,
   "metadata": {},
   "outputs": [],
   "source": [
    "import torch\n",
    "\n",
    "a = torch.tensor(0.5)\n",
    "b = torch.tensor(0.5)\n",
    "\n",
    "qa = qv.quantize(a.item(), 8)\n",
    "qb = qv.quantize(b.item(), 8)\n",
    "\n",
    "\n",
    "print(qv.dequantize(qv.qAdd(qa, qb)))\n",
    "print(qv.dequantize(qv.qMul(qa, qb)))"
   ]
  },
  {
   "cell_type": "code",
   "execution_count": null,
   "metadata": {},
   "outputs": [],
   "source": [
    "in_len = 10\n",
    "out_len = 1\n",
    "layer = torch.nn.Linear(in_len, out_len)\n",
    "input_test = torch.tensor([0.1, 0.2, 0.3, 0.4, 0.5, 0.6, 0.7, 0.8, 0.9, 1.0])\n",
    "\n",
    "print(layer(input_test).item())"
   ]
  },
  {
   "cell_type": "code",
   "execution_count": null,
   "metadata": {},
   "outputs": [],
   "source": [
    "# Quantize layer\n",
    "from qval import qval\n",
    "\n",
    "in_params, out_params = layer.parameters()\n",
    "in_params = list(in_params)\n",
    "\n",
    "if in_len > 1:\n",
    "    in_params = in_params[0]\n",
    "\n",
    "q_in_params = []\n",
    "for param in in_params:\n",
    "    # q_in_params.append(qv.quantize(param.item(), 8))\n",
    "    q_in_params.append(qval(param.item(), 8))\n",
    "\n",
    "if out_len > 1:\n",
    "    out_params = out_params[0]\n",
    "\n",
    "q_out_params = []\n",
    "for param in out_params:\n",
    "    # q_out_params.append(qv.quantize(param.item(), 8))\n",
    "    q_out_params.append(qval(param.item(), 8))\n",
    "\n",
    "print([qv.dequantize(x) for x in q_in_params])\n",
    "print([param.item() for param in in_params])\n",
    "print()\n",
    "print()\n",
    "print(qv.dequantize(q_out_params[0]), out_params[0].item())"
   ]
  },
  {
   "cell_type": "code",
   "execution_count": null,
   "metadata": {},
   "outputs": [],
   "source": [
    "# print(q_in_params)\n",
    "# print(input_test[0])\n",
    "q_input = [qval(q.item(), 8) for q in input_test]\n",
    "\n",
    "print([v.val() for v in q_input])\n",
    "\n",
    "# result = qv.quantize(0.0, 8)\n",
    "# for param, x in zip(q_in_params, q_input):\n",
    "#     result = qv.qAdd(result, param * x)\n",
    "    \n",
    "# print(qv.dequantize(result))"
   ]
  },
  {
   "cell_type": "code",
   "execution_count": 13,
   "metadata": {},
   "outputs": [],
   "source": [
    "def execute_layer(q_in_params, q_out_params, input_test, bits=8):\n",
    "    q_input = [qval(q.item(), bits) for q in input_test]\n",
    "\n",
    "    result = qval(0.0, bits)\n",
    "    for param, x in zip(q_in_params, q_input):\n",
    "        result = (result + param * x)\n",
    "\n",
    "    return (result + q_out_params[0])"
   ]
  },
  {
   "cell_type": "code",
   "execution_count": null,
   "metadata": {},
   "outputs": [],
   "source": [
    "execute_layer(q_in_params, q_out_params, input_test).val()"
   ]
  },
  {
   "cell_type": "code",
   "execution_count": null,
   "metadata": {},
   "outputs": [],
   "source": [
    "import random\n",
    "random_values = [random.random() for _ in range(10)]\n",
    "random_input = torch.tensor(random_values)\n",
    "\n",
    "original = layer(random_input).item()\n",
    "quantized = execute_layer(q_in_params, q_out_params, random_input).val()\n",
    "\n",
    "print(original, quantized)\n",
    "print(f\"Diff: {abs(original - quantized)}\")\n",
    "\n",
    "if abs(original - quantized) > 0.3:\n",
    "    print([x.item() for x in random_input])\n",
    "    q_input = [qval(x, 8) for x in random_values]\n",
    "\n",
    "    print([q.val for q in q_input])"
   ]
  },
  {
   "cell_type": "code",
   "execution_count": null,
   "metadata": {},
   "outputs": [],
   "source": [
    "for _ in range(10000):\n",
    "    random_values = [random.random() for _ in range(10)]\n",
    "    random_input = torch.tensor(random_values)\n",
    "\n",
    "    original = layer(random_input).item()\n",
    "    quantized = execute_layer(q_in_params, q_out_params, random_input).val()\n",
    "\n",
    "    # print(original, quantized)\n",
    "    # print(f\"Diff: {abs(original - quantized)}\")\n",
    "    # print(abs(original - quantized))\n",
    "\n",
    "    if abs(original - quantized) > 0.3:\n",
    "        print([x.item() for x in random_input])\n",
    "        q_input = [qval(x, 8) for x in random_values]\n",
    "\n",
    "        print([q.val for q in q_input])"
   ]
  },
  {
   "cell_type": "code",
   "execution_count": null,
   "metadata": {},
   "outputs": [],
   "source": [
    "from qval.qlayer import qdense\n",
    "\n",
    "input_params = [[0.1, 0.2, 0.3, 0.4, 0.5, 0.6, 0.7, 0.8, 0.9, 1.0] for _ in range(10)]\n",
    "out_params = [0.1, 0.2, 0.3, 0.4, 0.5, 0.6, 0.7, 0.8, 0.9, 1.0]\n",
    "teste = qdense(input_params, out_params)\n",
    "teste"
   ]
  },
  {
   "cell_type": "code",
   "execution_count": null,
   "metadata": {},
   "outputs": [],
   "source": [
    "input_test = [0.1, 0.2, 0.3, 0.4, 0.5, 0.6, 0.7, 0.8, 0.9, 5.0]\n",
    "\n",
    "output = teste.process(input_test)\n",
    "\n",
    "[x.val() for x in output]"
   ]
  },
  {
   "cell_type": "code",
   "execution_count": null,
   "metadata": {},
   "outputs": [],
   "source": [
    "qval(6.5)"
   ]
  },
  {
   "cell_type": "code",
   "execution_count": null,
   "metadata": {},
   "outputs": [],
   "source": [
    "qval(6.5, scale=100)"
   ]
  }
 ],
 "metadata": {
  "kernelspec": {
   "display_name": "Python 3 (ipykernel)",
   "language": "python",
   "name": "python3"
  },
  "language_info": {
   "codemirror_mode": {
    "name": "ipython",
    "version": 3
   },
   "file_extension": ".py",
   "mimetype": "text/x-python",
   "name": "python",
   "nbconvert_exporter": "python",
   "pygments_lexer": "ipython3",
   "version": "3.12.5"
  }
 },
 "nbformat": 4,
 "nbformat_minor": 4
}
